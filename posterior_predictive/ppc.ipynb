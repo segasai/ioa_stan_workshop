{
 "cells": [
  {
   "cell_type": "code",
   "execution_count": 10,
   "metadata": {},
   "outputs": [],
   "source": [
    "import pystan\n",
    "import numpy as np\n",
    "import matplotlib.pyplot as plt\n",
    "import pickle \n",
    "\n",
    "## Load the datasets \n",
    "data1 = pickle.load(open('good.data.pickle','rb'))\n",
    "data2 = pickle.load(open('bad.data.pickle','rb'))\n"
   ]
  },
  {
   "cell_type": "code",
   "execution_count": 15,
   "metadata": {},
   "outputs": [
    {
     "data": {
      "image/png": "[encoded data removed]",
      "text/plain": [
       "<matplotlib.figure.Figure at 0x7f93dba3ef28>"
      ]
     },
     "metadata": {},
     "output_type": "display_data"
    },
    {
     "data": {
      "image/png": "[encoded data removed]",
      "text/plain": [
       "<matplotlib.figure.Figure at 0x7f93dba3ef98>"
      ]
     },
     "metadata": {},
     "output_type": "display_data"
    }
   ],
   "source": [
    "plt.hist(data1['x'],range=[-15,15],bins=30); # The data is sampled from a single Gaussian\n",
    "plt.figure();\n",
    "plt.hist(data2['x'],range=[-15,15],bins=30); # The data was sampled from a mixture"
   ]
  },
  {
   "cell_type": "code",
   "execution_count": 27,
   "metadata": {},
   "outputs": [
    {
     "name": "stderr",
     "output_type": "stream",
     "text": [
      "INFO:pystan:COMPILING THE C++ CODE FOR MODEL anon_model_21d15fa1f5988612a67a841338f9cb18 NOW.\n"
     ]
    }
   ],
   "source": [
    "mod = pystan.StanModel('ppc.stan')\n",
    "# Compiling model"
   ]
  },
  {
   "cell_type": "code",
   "execution_count": 44,
   "metadata": {},
   "outputs": [
    {
     "data": {
      "text/plain": [
       "[<matplotlib.lines.Line2D at 0x7f93d8227668>]"
      ]
     },
     "execution_count": 44,
     "metadata": {},
     "output_type": "execute_result"
    },
    {
     "data": {
      "image/png": "[encoded data removed]",
      "text/plain": [
       "<matplotlib.figure.Figure at 0x7f93d889f710>"
      ]
     },
     "metadata": {},
     "output_type": "display_data"
    }
   ],
   "source": [
    "Res_good = mod.sampling(data=data1,sample_file='good_result.csv')\n",
    "rep_x = Res_good.extract()['rep_x']\n",
    "# Extract tthe replicated datasets\n",
    "perc = scipy.stats.scoreatpercentile(rep_x,5,axis=1)\n",
    "# Compute the percentile\n",
    "\n",
    "plt.hist(perc,bins=20);\n",
    "# Overplot the data\n",
    "plt.plot([scipy.stats.scoreatpercentile(data1['x'],5)]*2,[-1,1000])"
   ]
  },
  {
   "cell_type": "code",
   "execution_count": 43,
   "metadata": {},
   "outputs": [
    {
     "data": {
      "text/plain": [
       "[<matplotlib.lines.Line2D at 0x7f93d89036d8>]"
      ]
     },
     "execution_count": 43,
     "metadata": {},
     "output_type": "execute_result"
    },
    {
     "data": {
      "image/png": "[encoded data removed]",
      "text/plain": [
       "<matplotlib.figure.Figure at 0x7f93d8903b00>"
      ]
     },
     "metadata": {},
     "output_type": "display_data"
    }
   ],
   "source": [
    "Res_bad = mod.sampling(data=data2,sample_file='bad_result.csv')\n",
    "rep_x = Res_bad.extract()['rep_x']\n",
    "# Extract tthe replicated datasets\n",
    "\n",
    "perc = scipy.stats.scoreatpercentile(rep_x,5,axis=1)\n",
    "plt.hist(perc,bins=20);\n",
    "# Overplot the data\n",
    "plt.plot([scipy.stats.scoreatpercentile(data2['x'],5)]*2,[-1,1000])"
   ]
  },
  {
   "cell_type": "code",
   "execution_count": null,
   "metadata": {
    "collapsed": true
   },
   "outputs": [],
   "source": []
  }
 ],
 "metadata": {
  "kernelspec": {
   "display_name": "Python 3",
   "language": "python",
   "name": "python3"
  },
  "language_info": {
   "codemirror_mode": {
    "name": "ipython",
    "version": 3
   },
   "file_extension": ".py",
   "mimetype": "text/x-python",
   "name": "python",
   "nbconvert_exporter": "python",
   "pygments_lexer": "ipython3",
   "version": "3.5.2"
  }
 },
 "nbformat": 4,
 "nbformat_minor": 2
}
