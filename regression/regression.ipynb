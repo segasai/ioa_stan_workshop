{
 "cells": [
  {
   "cell_type": "code",
   "execution_count": 5,
   "metadata": {
    "collapsed": true
   },
   "outputs": [],
   "source": [
    "import pystan\n",
    "import numpy as np\n",
    "import matplotlib.pyplot as plt\n",
    "import pickle"
   ]
  },
  {
   "cell_type": "code",
   "execution_count": 33,
   "metadata": {},
   "outputs": [
    {
     "name": "stderr",
     "output_type": "stream",
     "text": [
      "INFO:pystan:COMPILING THE C++ CODE FOR MODEL anon_model_5d0ccede5b5f5a4f9f09e9bf15bf45cf NOW.\n"
     ]
    }
   ],
   "source": [
    "mod = pystan.StanModel('regression.stan')"
   ]
  },
  {
   "cell_type": "code",
   "execution_count": 34,
   "metadata": {},
   "outputs": [
    {
     "name": "stdout",
     "output_type": "stream",
     "text": [
      "{'y': array([  47.01783542,   75.01024813,    4.70523347,   36.06123191,\n",
      "         19.90568382,   14.99587066,   23.403693  ,   39.35531464,\n",
      "         44.86330881,   59.29172505,   47.11775116,   73.64095869,\n",
      "         24.77456269,   93.18930743,    7.86058059,   73.17623493,\n",
      "         47.92939812,   61.05413926,   18.66340891,   24.1714185 ,\n",
      "         85.49795122,  101.90349764,   35.99856414,   74.27585842,\n",
      "         92.01891439,   95.15869838,   13.05729257,   10.12998603,\n",
      "         22.3865336 ,   93.40782887,   13.73977154,   47.28014493,\n",
      "        101.52950947,   57.3628279 ,   73.92149289,   36.58417765,\n",
      "         72.27697545,   88.77772658,    7.67498838,   79.15491555,\n",
      "        104.23665487,   78.50428203,   33.0057037 ,   82.31216049,\n",
      "         16.44401837,   50.19825316,   95.83493335,   33.58625322,\n",
      "         35.05128979,   19.96995896,    5.07871392,   74.11971732,\n",
      "         27.79046235,   31.89267763,   52.9580479 ,   11.19959983,\n",
      "         62.23084025,   19.06893686,   62.70049555,   75.5263735 ,\n",
      "         16.02624975,   45.78206805,   74.96059211,   45.27358556,\n",
      "         10.79720693,   58.63620789,   71.19289475,   56.38716533,\n",
      "        100.32836176,   64.40591569,   95.86965685,   18.88517162,\n",
      "         19.00545585,   86.35750913,   45.00017826,   22.21797112,\n",
      "         97.44074127,   37.34174821,   81.12003492,   79.78677818,\n",
      "         93.77197356,   67.26706547,   79.95779866,   39.77078001,\n",
      "         32.01019858,   93.46660309,   47.29202453,  100.48697789,\n",
      "         71.59294894,   66.87293087,   16.96980862,   99.77422271,\n",
      "         50.97754854,   63.05249534,   48.00438001,   26.8063371 ,\n",
      "         94.69103537,   63.26943556,    7.81535841,   66.46585658]), 'N': 100, 'x': array([  4.17022005e+00,   7.20324493e+00,   1.14374817e-03,\n",
      "         3.02332573e+00,   1.46755891e+00,   9.23385948e-01,\n",
      "         1.86260211e+00,   3.45560727e+00,   3.96767474e+00,\n",
      "         5.38816734e+00,   4.19194514e+00,   6.85219500e+00,\n",
      "         2.04452250e+00,   8.78117436e+00,   2.73875932e-01,\n",
      "         6.70467510e+00,   4.17304802e+00,   5.58689828e+00,\n",
      "         1.40386939e+00,   1.98101489e+00,   8.00744569e+00,\n",
      "         9.68261576e+00,   3.13424178e+00,   6.92322616e+00,\n",
      "         8.76389152e+00,   8.94606664e+00,   8.50442114e-01,\n",
      "         3.90547832e-01,   1.69830420e+00,   8.78142503e+00,\n",
      "         9.83468338e-01,   4.21107625e+00,   9.57889530e+00,\n",
      "         5.33165285e+00,   6.91877114e+00,   3.15515631e+00,\n",
      "         6.86500928e+00,   8.34625672e+00,   1.82882773e-01,\n",
      "         7.50144315e+00,   9.88861089e+00,   7.48165654e+00,\n",
      "         2.80443992e+00,   7.89279328e+00,   1.03226007e+00,\n",
      "         4.47893526e+00,   9.08595503e+00,   2.93614148e+00,\n",
      "         2.87775339e+00,   1.30028572e+00,   1.93669579e-01,\n",
      "         6.78835533e+00,   2.11628116e+00,   2.65546659e+00,\n",
      "         4.91573159e+00,   5.33625451e-01,   5.74117605e+00,\n",
      "         1.46728575e+00,   5.89305537e+00,   6.99758360e+00,\n",
      "         1.02334429e+00,   4.14055988e+00,   6.94400158e+00,\n",
      "         4.14179270e+00,   4.99534589e-01,   5.35896406e+00,\n",
      "         6.63794645e+00,   5.14889112e+00,   9.44594756e+00,\n",
      "         5.86555041e+00,   9.03401915e+00,   1.37474704e+00,\n",
      "         1.39276347e+00,   8.07391289e+00,   3.97676837e+00,\n",
      "         1.65354197e+00,   9.27508580e+00,   3.47765860e+00,\n",
      "         7.50812103e+00,   7.25997985e+00,   8.83306091e+00,\n",
      "         6.23672207e+00,   7.50942434e+00,   3.48898342e+00,\n",
      "         2.69927892e+00,   8.95886218e+00,   4.28091190e+00,\n",
      "         9.64840047e+00,   6.63441498e+00,   6.21695720e+00,\n",
      "         1.14745973e+00,   9.49489259e+00,   4.49912133e+00,\n",
      "         5.78389614e+00,   4.08136803e+00,   2.37026980e+00,\n",
      "         9.03379521e+00,   5.73679487e+00,   2.87032703e-02,\n",
      "         6.17144914e+00])}\n"
     ]
    }
   ],
   "source": [
    "data = pickle.load(open('regr.data.pickle','rb'))\n",
    "print (data)"
   ]
  },
  {
   "cell_type": "code",
   "execution_count": 35,
   "metadata": {},
   "outputs": [
    {
     "name": "stdout",
     "output_type": "stream",
     "text": [
      "Inference for Stan model: anon_model_5d0ccede5b5f5a4f9f09e9bf15bf45cf.\n",
      "5 chains, each with iter=2000; warmup=1000; thin=1; \n",
      "post-warmup draws per chain=1000, total post-warmup draws=5000.\n",
      "\n",
      "        mean se_mean     sd   2.5%    25%    50%    75%  97.5%  n_eff   Rhat\n",
      "alpha   5.23  4.1e-3   0.18   4.89   5.12   5.23   5.35   5.58   1884    1.0\n",
      "beta    9.97  7.0e-4   0.03   9.91   9.95   9.97   9.99  10.03   1951    1.0\n",
      "sigma   0.92  1.4e-3   0.07    0.8   0.87   0.91   0.96   1.06   2387    1.0\n",
      "lp__  -41.18    0.03   1.28 -44.47 -41.77 -40.85 -40.23 -39.72   1655    1.0\n",
      "\n",
      "Samples were drawn using NUTS at Mon Jun  5 23:04:58 2017.\n",
      "For each parameter, n_eff is a crude measure of effective sample size,\n",
      "and Rhat is the potential scale reduction factor on split chains (at \n",
      "convergence, Rhat=1).\n"
     ]
    }
   ],
   "source": [
    "res= mod.sampling(data, chains=5, sample_file='output.csv')\n",
    "\n",
    "print (res)"
   ]
  },
  {
   "cell_type": "code",
   "execution_count": 36,
   "metadata": {},
   "outputs": [
    {
     "name": "stdout",
     "output_type": "stream",
     "text": [
      "[  9.95758403   9.9370479    9.96356847 ...,   9.93175432  10.04601948\n",
      "   9.92917316]\n"
     ]
    },
    {
     "data": {
      "image/png": "[encoded data removed]",
      "text/plain": [
       "<matplotlib.figure.Figure at 0x7f8f456b7f60>"
      ]
     },
     "metadata": {},
     "output_type": "display_data"
    }
   ],
   "source": [
    "print (res.extract()['beta']);\n",
    "plt.hist(res.extract()['beta']);"
   ]
  },
  {
   "cell_type": "code",
   "execution_count": 19,
   "metadata": {},
   "outputs": [
    {
     "name": "stdout",
     "output_type": "stream",
     "text": [
      "OrderedDict([('alpha', array(5.235840348853913)), ('beta', array(9.96863321171838)), ('sigma', array(0.8940097766234619))])\n"
     ]
    }
   ],
   "source": [
    "res= mod.optimizing(data, sample_file='output.csv')\n",
    "print (res)"
   ]
  },
  {
   "cell_type": "code",
   "execution_count": 22,
   "metadata": {
    "collapsed": true
   },
   "outputs": [],
   "source": [
    "res= mod.sampling(data, iter=500,chains=5, sample_file='output.csv', init=[{'alpha':3, 'beta':4,'sigma':3}]*5, )\n",
    "\n"
   ]
  },
  {
   "cell_type": "code",
   "execution_count": 32,
   "metadata": {},
   "outputs": [
    {
     "name": "stdout",
     "output_type": "stream",
     "text": [
      "OrderedDict([('alpha', array(32.0)), ('beta', array(4.0)), ('sigma', array(3.0000000000000004)), ('lp__', array(0.0))])\n"
     ]
    }
   ],
   "source": [
    "res= mod.sampling(data, chains=1, iter=1,sample_file='output.csv', init=[{'alpha':32, 'beta':4,'sigma':3}],algorithm='Fixed_param' )\n",
    "print (res.extract())"
   ]
  },
  {
   "cell_type": "code",
   "execution_count": null,
   "metadata": {
    "collapsed": true
   },
   "outputs": [],
   "source": []
  }
 ],
 "metadata": {
  "kernelspec": {
   "display_name": "Python 3",
   "language": "python",
   "name": "python3"
  },
  "language_info": {
   "codemirror_mode": {
    "name": "ipython",
    "version": 3
   },
   "file_extension": ".py",
   "mimetype": "text/x-python",
   "name": "python",
   "nbconvert_exporter": "python",
   "pygments_lexer": "ipython3",
   "version": "3.5.2"
  }
 },
 "nbformat": 4,
 "nbformat_minor": 2
}
